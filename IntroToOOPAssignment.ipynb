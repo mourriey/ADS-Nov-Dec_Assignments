{
 "cells": [
  {
   "cell_type": "markdown",
   "id": "6e5ec2f7-b57e-4050-a53d-cf5fce0fbf13",
   "metadata": {},
   "source": [
    "#### Task 1: Notebook successfully created and named"
   ]
  },
  {
   "cell_type": "markdown",
   "id": "6a2f8d9a-5117-492a-a4c8-6bdb14248301",
   "metadata": {},
   "source": [
    "#### Task 2: Write a Python script that demonstrates the use of classes and objects"
   ]
  },
  {
   "cell_type": "markdown",
   "id": "46f09d70-8f55-49bd-a43d-94a57f3a9076",
   "metadata": {},
   "source": [
    "##### Instructions \n",
    "###### In your Python Repl, create a class named Person with the following attributes and methods:\n",
    "###### Attributes: name and age\n",
    "###### Method: greet that prints a greeting message including the person's name and age.\n",
    "###### Create an instance of the Person class and call the greet method."
   ]
  },
  {
   "cell_type": "code",
   "execution_count": 10,
   "id": "16a1d91a-3928-42e1-b2c5-c5d54b11b7c6",
   "metadata": {},
   "outputs": [
    {
     "name": "stdout",
     "output_type": "stream",
     "text": [
      "Hello my 30 year old friend Alice\n"
     ]
    }
   ],
   "source": [
    "class Person:\n",
    "    def __init__(self, name, age):\n",
    "        self.name = name\n",
    "        self.age = age\n",
    "        \n",
    "    def greet(self):\n",
    "        print(f\"Hello my {self.age} year old friend {self.name}\")\n",
    "\n",
    "Person1 = Person('Alice', '30')\n",
    "Person1.greet()\n",
    "    "
   ]
  },
  {
   "cell_type": "markdown",
   "id": "cb05c893-0846-4a16-bb7d-248c6969f28b",
   "metadata": {},
   "source": [
    "\n",
    "\n"
   ]
  },
  {
   "cell_type": "markdown",
   "id": "20eaaac5-b7e5-4b9f-b0e6-58779cdabcf6",
   "metadata": {},
   "source": [
    "#### Task 3\": Write a Python script that demonstrates the use of inheritance, subclasses, and superclasses"
   ]
  },
  {
   "cell_type": "markdown",
   "id": "b8a40e32-f049-4df8-af5a-7641b8c70387",
   "metadata": {},
   "source": [
    "##### Instructions\n",
    "###### In your Python Repl, create a class named Employee that inherits from the Person class.\n",
    "###### Add an attribute job_title to the Employee class.\n",
    "###### Override the greet method in the Employee class to include the job title in the greeting message.\n",
    "###### Use the super() function to call the greet method of the Person class.\n",
    "###### Create an instance of the Employee class and call the greet method."
   ]
  },
  {
   "cell_type": "code",
   "execution_count": 28,
   "id": "b426483c-b0d6-439d-b57c-27f26481af88",
   "metadata": {},
   "outputs": [
    {
     "name": "stdout",
     "output_type": "stream",
     "text": [
      "Hello my 30 year old friend John, who works as Data Scientist!\n"
     ]
    }
   ],
   "source": [
    "class Employee(Person):\n",
    "    def __init__(self, name, age, job_title):\n",
    "        super().__init__(name, age)\n",
    "        self.job_title = job_title\n",
    "    \n",
    "    def greet(self):\n",
    "        print(f\"Hello my {self.age} year old friend {self.name}, who works as {self.job_title}!\")\n",
    "\n",
    "employee1 = Employee('John', 30, 'Data Scientist')\n",
    "employee1.greet()\n",
    "    "
   ]
  },
  {
   "cell_type": "markdown",
   "id": "ae88769f-4ce1-44c8-9f73-6250a80a0f4a",
   "metadata": {},
   "source": [
    "\n",
    "\n"
   ]
  },
  {
   "cell_type": "markdown",
   "id": "02cc23af-8d4b-4758-ba40-ced854a1551f",
   "metadata": {},
   "source": [
    "#### Task 4: successfully shared"
   ]
  }
 ],
 "metadata": {
  "kernelspec": {
   "display_name": "Python 3 (ipykernel)",
   "language": "python",
   "name": "python3"
  },
  "language_info": {
   "codemirror_mode": {
    "name": "ipython",
    "version": 3
   },
   "file_extension": ".py",
   "mimetype": "text/x-python",
   "name": "python",
   "nbconvert_exporter": "python",
   "pygments_lexer": "ipython3",
   "version": "3.12.4"
  }
 },
 "nbformat": 4,
 "nbformat_minor": 5
}
