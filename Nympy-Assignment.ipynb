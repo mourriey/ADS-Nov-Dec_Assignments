{
 "cells": [
  {
   "cell_type": "markdown",
   "id": "2ef41e8e-57fd-4260-9d83-5aec490bd364",
   "metadata": {},
   "source": [
    "## Numpy Assignment"
   ]
  },
  {
   "cell_type": "code",
   "execution_count": 2,
   "id": "59e6ce3b-55cb-4972-bd32-6cfe8462d84c",
   "metadata": {},
   "outputs": [],
   "source": [
    "import numpy as np"
   ]
  },
  {
   "cell_type": "code",
   "execution_count": 4,
   "id": "4e3e4cee-ad21-4b37-b2a2-307f451fa32d",
   "metadata": {},
   "outputs": [],
   "source": [
    "heights = np.array([160, 155, 172, 165, 180, 158, 175, 163, 171, 168])"
   ]
  },
  {
   "cell_type": "markdown",
   "id": "b65d5b79-ec27-4451-b8b4-f45988170f8d",
   "metadata": {},
   "source": [
    "#### Calculate the mean, median, and standard deviation of the students' heights"
   ]
  },
  {
   "cell_type": "code",
   "execution_count": 27,
   "id": "8d2c929d-25b7-42f1-9f18-a2ff2b1838c2",
   "metadata": {},
   "outputs": [
    {
     "name": "stdout",
     "output_type": "stream",
     "text": [
      "Mean: 166.7\n",
      "Median: 166.5\n",
      "Std Dev: 7.54\n"
     ]
    }
   ],
   "source": [
    "heihgts_mean = np.mean(heights)\n",
    "heihgts_median = np.median(heights)\n",
    "heihgts_stdev = np.std(heights)\n",
    "print(f\"Mean: {heihgts_mean}\")\n",
    "print(f\"Median: {heihgts_median}\")\n",
    "print(f\"Std Dev: {heihgts_stdev:.2f}\")"
   ]
  },
  {
   "cell_type": "markdown",
   "id": "2578c7b8-f46d-4aeb-bf3e-4c1540a00c2b",
   "metadata": {},
   "source": [
    "   "
   ]
  },
  {
   "cell_type": "markdown",
   "id": "1a4a6b0a-9c89-4362-a8b1-690865163b5e",
   "metadata": {},
   "source": [
    "#### Create a new array with the heights normalized, i.e., each height value should be transformed to have a mean of 0 and a standard deviation of 1"
   ]
  },
  {
   "cell_type": "code",
   "execution_count": 31,
   "id": "d48d000d-b6c6-41b9-b9b9-1e56cfb9ac04",
   "metadata": {},
   "outputs": [
    {
     "name": "stdout",
     "output_type": "stream",
     "text": [
      "[-0.88891945 -1.55229217  0.70317509 -0.22554673  1.76457144 -1.15426854\n",
      "  1.10119872 -0.49089581  0.57050054  0.17247691]\n"
     ]
    }
   ],
   "source": [
    "normalized_heights = (heights-heihgts_mean)/heihgts_stdev\n",
    "print(normalized_heights)"
   ]
  },
  {
   "cell_type": "markdown",
   "id": "5d4826ce-9e13-4960-8dfd-7d01ce59896c",
   "metadata": {},
   "source": [
    "   "
   ]
  },
  {
   "cell_type": "markdown",
   "id": "df75e1cc-8e58-444b-9b9f-7095aaea20b6",
   "metadata": {},
   "source": [
    "#### Determine the tallest and shortest students in the class using NumPy's argmax and argmin functions."
   ]
  },
  {
   "cell_type": "code",
   "execution_count": 45,
   "id": "ef33e2ef-f21f-461a-9da0-abfbda421a6e",
   "metadata": {},
   "outputs": [
    {
     "name": "stdout",
     "output_type": "stream",
     "text": [
      "Tallest girl is 180cm at position 4\n",
      "Shortest girl is 155cm at position 1\n"
     ]
    }
   ],
   "source": [
    "max_height = np.max(heights)\n",
    "max_index = np.argmax(heights)\n",
    "min_height = np.min(heights)\n",
    "min_index = np.argmin(heights)\n",
    "\n",
    "print(f'Tallest girl is {max_height}cm at position {max_index}')\n",
    "print(f'Shortest girl is {min_height}cm at position {min_index}')"
   ]
  },
  {
   "cell_type": "markdown",
   "id": "939a6175-87ef-4c5f-b0bb-779b7227a30a",
   "metadata": {},
   "source": [
    "#### Calculate the difference between the tallest and shortest students' heights."
   ]
  },
  {
   "cell_type": "code",
   "execution_count": 55,
   "id": "27d5eed2-6bd8-4178-81ac-e133b43cef88",
   "metadata": {},
   "outputs": [
    {
     "name": "stdout",
     "output_type": "stream",
     "text": [
      "The height difference is 25cm\n"
     ]
    }
   ],
   "source": [
    "height_difference = max_height - min_height\n",
    "print(f'The height difference is {height_difference}cm')"
   ]
  },
  {
   "cell_type": "code",
   "execution_count": 53,
   "id": "dad1b6c6-561d-4489-aa3a-32def2f92dc8",
   "metadata": {},
   "outputs": [
    {
     "name": "stdout",
     "output_type": "stream",
     "text": [
      "Height difference: 25 cm\n"
     ]
    }
   ],
   "source": [
    "height_diff = heights[max_index] - heights[min_index]\n",
    "print(f\"Height difference: {height_diff} cm\")"
   ]
  },
  {
   "cell_type": "markdown",
   "id": "dada4e05-2910-40e6-99e6-2ca867eb09c4",
   "metadata": {},
   "source": [
    "#### Randomly select 5 heights from the dataset without replacement."
   ]
  },
  {
   "cell_type": "code",
   "execution_count": 57,
   "id": "1c31b41c-0d17-4547-9611-e59cffab9c76",
   "metadata": {},
   "outputs": [
    {
     "name": "stdout",
     "output_type": "stream",
     "text": [
      "[160 175 168 165 172]\n"
     ]
    }
   ],
   "source": [
    "random_sample = np.random.choice(heights, 5, replace=False)\n",
    "print(random_sample)"
   ]
  },
  {
   "cell_type": "code",
   "execution_count": null,
   "id": "602aa6f6-c0a8-41f3-9f38-44bec21f0637",
   "metadata": {},
   "outputs": [],
   "source": []
  }
 ],
 "metadata": {
  "kernelspec": {
   "display_name": "Python 3 (ipykernel)",
   "language": "python",
   "name": "python3"
  },
  "language_info": {
   "codemirror_mode": {
    "name": "ipython",
    "version": 3
   },
   "file_extension": ".py",
   "mimetype": "text/x-python",
   "name": "python",
   "nbconvert_exporter": "python",
   "pygments_lexer": "ipython3",
   "version": "3.12.4"
  }
 },
 "nbformat": 4,
 "nbformat_minor": 5
}
